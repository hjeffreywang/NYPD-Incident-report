{
 "cells": [
  {
   "cell_type": "markdown",
   "id": "18ab8390",
   "metadata": {},
   "source": [
    "# NYPD Shooting Incident Data Report: Effects of Lockdown\n",
    "### This report will show the effects of lockdown on the shooting incident rates in the NY area through analysis, visualization and modeling. "
   ]
  },
  {
   "cell_type": "code",
   "execution_count": 1,
   "id": "deafa6a9",
   "metadata": {},
   "outputs": [],
   "source": [
    "import pandas as pd\n",
    "import numpy as np\n",
    "import dtale as dta\n",
    "import datetime as dt\n",
    "import matplotlib.pyplot as plt\n",
    "\n"
   ]
  },
  {
   "cell_type": "code",
   "execution_count": 2,
   "id": "c23a9169",
   "metadata": {},
   "outputs": [],
   "source": [
    "import seaborn as sns\n"
   ]
  },
  {
   "cell_type": "code",
   "execution_count": 3,
   "id": "34e94052",
   "metadata": {},
   "outputs": [],
   "source": [
    "df_ytd=pd.read_csv(\"https://data.cityofnewyork.us/api/views/5ucz-vwe8/rows.csv?accessType=DOWNLOAD\")\n",
    "df_hist=pd.read_csv(\"NYPD_Shooting_Incident_Data__Historic_.csv\")\n",
    "df=pd.concat([df_ytd,df_hist])"
   ]
  },
  {
   "cell_type": "markdown",
   "id": "92f46666",
   "metadata": {},
   "source": [
    "# Preliminary Analysis"
   ]
  },
  {
   "cell_type": "markdown",
   "id": "e6ec4799",
   "metadata": {},
   "source": [
    "### 1. Explore the Data"
   ]
  },
  {
   "cell_type": "code",
   "execution_count": 4,
   "id": "5bbf4f87",
   "metadata": {
    "scrolled": false
   },
   "outputs": [
    {
     "name": "stdout",
     "output_type": "stream",
     "text": [
      "<class 'pandas.core.frame.DataFrame'>\n",
      "Int64Index: 27312 entries, 0 to 25595\n",
      "Data columns (total 22 columns):\n",
      " #   Column                    Non-Null Count  Dtype  \n",
      "---  ------                    --------------  -----  \n",
      " 0   INCIDENT_KEY              27312 non-null  int64  \n",
      " 1   OCCUR_DATE                27312 non-null  object \n",
      " 2   OCCUR_TIME                27312 non-null  object \n",
      " 3   BORO                      27312 non-null  object \n",
      " 4   LOC_OF_OCCUR_DESC         1716 non-null   object \n",
      " 5   PRECINCT                  27312 non-null  int64  \n",
      " 6   JURISDICTION_CODE         27310 non-null  float64\n",
      " 7   LOC_CLASSFCTN_DESC        1716 non-null   object \n",
      " 8   LOCATION_DESC             12335 non-null  object \n",
      " 9   STATISTICAL_MURDER_FLAG   27312 non-null  object \n",
      " 10  PERP_AGE_GROUP            17968 non-null  object \n",
      " 11  PERP_SEX                  18002 non-null  object \n",
      " 12  PERP_RACE                 18002 non-null  object \n",
      " 13  VIC_AGE_GROUP             27312 non-null  object \n",
      " 14  VIC_SEX                   27312 non-null  object \n",
      " 15  VIC_RACE                  27312 non-null  object \n",
      " 16  X_COORD_CD                27312 non-null  float64\n",
      " 17  Y_COORD_CD                27312 non-null  float64\n",
      " 18  Latitude                  27302 non-null  float64\n",
      " 19  Longitude                 27302 non-null  float64\n",
      " 20  New Georeferenced Column  1706 non-null   object \n",
      " 21  Lon_Lat                   25596 non-null  object \n",
      "dtypes: float64(5), int64(2), object(15)\n",
      "memory usage: 4.8+ MB\n"
     ]
    }
   ],
   "source": [
    "#Explore data by first seeing overview of the data columns, length, etc.\n",
    "df.info()\n",
    "#We have locations , dates, and perpetrator data"
   ]
  },
  {
   "cell_type": "markdown",
   "id": "84c942b4",
   "metadata": {},
   "source": [
    "### 2. See amount of bad data (nulls) and repetition"
   ]
  },
  {
   "cell_type": "code",
   "execution_count": 5,
   "id": "de213de9",
   "metadata": {},
   "outputs": [
    {
     "data": {
      "text/plain": [
       "INCIDENT_KEY                    0\n",
       "OCCUR_DATE                      0\n",
       "OCCUR_TIME                      0\n",
       "BORO                            0\n",
       "LOC_OF_OCCUR_DESC           25596\n",
       "PRECINCT                        0\n",
       "JURISDICTION_CODE               2\n",
       "LOC_CLASSFCTN_DESC          25596\n",
       "LOCATION_DESC               14977\n",
       "STATISTICAL_MURDER_FLAG         0\n",
       "PERP_AGE_GROUP               9344\n",
       "PERP_SEX                     9310\n",
       "PERP_RACE                    9310\n",
       "VIC_AGE_GROUP                   0\n",
       "VIC_SEX                         0\n",
       "VIC_RACE                        0\n",
       "X_COORD_CD                      0\n",
       "Y_COORD_CD                      0\n",
       "Latitude                       10\n",
       "Longitude                      10\n",
       "New Georeferenced Column    25606\n",
       "Lon_Lat                      1716\n",
       "dtype: int64"
      ]
     },
     "execution_count": 5,
     "metadata": {},
     "output_type": "execute_result"
    }
   ],
   "source": [
    "df.isna().sum()\n"
   ]
  },
  {
   "cell_type": "markdown",
   "id": "f911d5f7",
   "metadata": {},
   "source": [
    "#### Most of the missing data is in location descriptions, and the column could be removed or ignored instead of removing from data samples that are missing it.\n",
    "#### Missing perp data might indicate not being able to catch the perpetrator, which apparently is more than third of the entries. This could lead to bias so we will have to see."
   ]
  },
  {
   "cell_type": "code",
   "execution_count": 6,
   "id": "c635dc8f",
   "metadata": {},
   "outputs": [
    {
     "data": {
      "text/plain": [
       "21420"
      ]
     },
     "execution_count": 6,
     "metadata": {},
     "output_type": "execute_result"
    }
   ],
   "source": [
    "df['INCIDENT_KEY'].nunique()"
   ]
  },
  {
   "cell_type": "markdown",
   "id": "796e37f4",
   "metadata": {},
   "source": [
    "#### We have overlapping incidents ids that need to be cleaned."
   ]
  },
  {
   "cell_type": "code",
   "execution_count": 7,
   "id": "df6f62ba",
   "metadata": {},
   "outputs": [],
   "source": [
    "df_grouped = df.groupby('INCIDENT_KEY')"
   ]
  },
  {
   "cell_type": "code",
   "execution_count": 8,
   "id": "431445e5",
   "metadata": {},
   "outputs": [],
   "source": [
    "#get a dict of the columns when aggragating the same incident keys\n",
    "columns_dict = {col: 'max' for col in df.columns}\n",
    "# {'column name': 'max', ..... 'column name': 'max'} "
   ]
  },
  {
   "cell_type": "code",
   "execution_count": 9,
   "id": "a4b64cd1",
   "metadata": {},
   "outputs": [],
   "source": [
    "df=df_grouped.agg(columns_dict)"
   ]
  },
  {
   "cell_type": "markdown",
   "id": "dc0fc0ab",
   "metadata": {},
   "source": [
    "### 3. Turn Date strings into a useable Datetime object"
   ]
  },
  {
   "cell_type": "code",
   "execution_count": 10,
   "id": "78c94707",
   "metadata": {},
   "outputs": [],
   "source": [
    "df[\"OCCUR_DATE\"]=pd.to_datetime(df[\"OCCUR_DATE\"])"
   ]
  },
  {
   "cell_type": "code",
   "execution_count": 11,
   "id": "faac0221",
   "metadata": {},
   "outputs": [],
   "source": [
    "df.sort_values(by=\"OCCUR_DATE\", ascending=True,inplace=True)"
   ]
  },
  {
   "cell_type": "code",
   "execution_count": 12,
   "id": "3c2414e5",
   "metadata": {},
   "outputs": [
    {
     "data": {
      "text/html": [
       "<div>\n",
       "<style scoped>\n",
       "    .dataframe tbody tr th:only-of-type {\n",
       "        vertical-align: middle;\n",
       "    }\n",
       "\n",
       "    .dataframe tbody tr th {\n",
       "        vertical-align: top;\n",
       "    }\n",
       "\n",
       "    .dataframe thead th {\n",
       "        text-align: right;\n",
       "    }\n",
       "</style>\n",
       "<table border=\"1\" class=\"dataframe\">\n",
       "  <thead>\n",
       "    <tr style=\"text-align: right;\">\n",
       "      <th></th>\n",
       "      <th>INCIDENT_KEY</th>\n",
       "      <th>OCCUR_DATE</th>\n",
       "      <th>OCCUR_TIME</th>\n",
       "      <th>BORO</th>\n",
       "      <th>LOC_OF_OCCUR_DESC</th>\n",
       "      <th>PRECINCT</th>\n",
       "      <th>JURISDICTION_CODE</th>\n",
       "      <th>LOC_CLASSFCTN_DESC</th>\n",
       "      <th>LOCATION_DESC</th>\n",
       "      <th>STATISTICAL_MURDER_FLAG</th>\n",
       "      <th>...</th>\n",
       "      <th>PERP_RACE</th>\n",
       "      <th>VIC_AGE_GROUP</th>\n",
       "      <th>VIC_SEX</th>\n",
       "      <th>VIC_RACE</th>\n",
       "      <th>X_COORD_CD</th>\n",
       "      <th>Y_COORD_CD</th>\n",
       "      <th>Latitude</th>\n",
       "      <th>Longitude</th>\n",
       "      <th>New Georeferenced Column</th>\n",
       "      <th>Lon_Lat</th>\n",
       "    </tr>\n",
       "    <tr>\n",
       "      <th>INCIDENT_KEY</th>\n",
       "      <th></th>\n",
       "      <th></th>\n",
       "      <th></th>\n",
       "      <th></th>\n",
       "      <th></th>\n",
       "      <th></th>\n",
       "      <th></th>\n",
       "      <th></th>\n",
       "      <th></th>\n",
       "      <th></th>\n",
       "      <th></th>\n",
       "      <th></th>\n",
       "      <th></th>\n",
       "      <th></th>\n",
       "      <th></th>\n",
       "      <th></th>\n",
       "      <th></th>\n",
       "      <th></th>\n",
       "      <th></th>\n",
       "      <th></th>\n",
       "      <th></th>\n",
       "    </tr>\n",
       "  </thead>\n",
       "  <tbody>\n",
       "    <tr>\n",
       "      <th>9953245</th>\n",
       "      <td>9953245</td>\n",
       "      <td>2006-01-01</td>\n",
       "      <td>02:00:00</td>\n",
       "      <td>BRONX</td>\n",
       "      <td>NaN</td>\n",
       "      <td>48</td>\n",
       "      <td>0.0</td>\n",
       "      <td>NaN</td>\n",
       "      <td>NONE</td>\n",
       "      <td>False</td>\n",
       "      <td>...</td>\n",
       "      <td>BLACK</td>\n",
       "      <td>&lt;18</td>\n",
       "      <td>M</td>\n",
       "      <td>BLACK</td>\n",
       "      <td>1.013405e+06</td>\n",
       "      <td>251800.750000</td>\n",
       "      <td>40.857770</td>\n",
       "      <td>-73.894607</td>\n",
       "      <td>NaN</td>\n",
       "      <td>POINT (-73.89460745999997 40.85776982200008)</td>\n",
       "    </tr>\n",
       "    <tr>\n",
       "      <th>9953252</th>\n",
       "      <td>9953252</td>\n",
       "      <td>2006-01-01</td>\n",
       "      <td>02:22:00</td>\n",
       "      <td>MANHATTAN</td>\n",
       "      <td>NaN</td>\n",
       "      <td>28</td>\n",
       "      <td>0.0</td>\n",
       "      <td>NaN</td>\n",
       "      <td>NONE</td>\n",
       "      <td>True</td>\n",
       "      <td>...</td>\n",
       "      <td>BLACK</td>\n",
       "      <td>25-44</td>\n",
       "      <td>M</td>\n",
       "      <td>BLACK</td>\n",
       "      <td>9.988158e+05</td>\n",
       "      <td>233545.437500</td>\n",
       "      <td>40.807700</td>\n",
       "      <td>-73.947386</td>\n",
       "      <td>NaN</td>\n",
       "      <td>POINT (-73.94738575999997 40.80770036400003)</td>\n",
       "    </tr>\n",
       "    <tr>\n",
       "      <th>9953250</th>\n",
       "      <td>9953250</td>\n",
       "      <td>2006-01-01</td>\n",
       "      <td>02:34:00</td>\n",
       "      <td>QUEENS</td>\n",
       "      <td>NaN</td>\n",
       "      <td>114</td>\n",
       "      <td>0.0</td>\n",
       "      <td>NaN</td>\n",
       "      <td>BAR/NIGHT CLUB</td>\n",
       "      <td>True</td>\n",
       "      <td>...</td>\n",
       "      <td>BLACK</td>\n",
       "      <td>25-44</td>\n",
       "      <td>M</td>\n",
       "      <td>BLACK</td>\n",
       "      <td>1.002577e+06</td>\n",
       "      <td>221583.453125</td>\n",
       "      <td>40.774861</td>\n",
       "      <td>-73.933833</td>\n",
       "      <td>NaN</td>\n",
       "      <td>POINT (-73.93383258499995 40.77486094100004)</td>\n",
       "    </tr>\n",
       "    <tr>\n",
       "      <th>139716503</th>\n",
       "      <td>139716503</td>\n",
       "      <td>2006-01-01</td>\n",
       "      <td>12:30:00</td>\n",
       "      <td>BROOKLYN</td>\n",
       "      <td>NaN</td>\n",
       "      <td>77</td>\n",
       "      <td>0.0</td>\n",
       "      <td>NaN</td>\n",
       "      <td>PVT HOUSE</td>\n",
       "      <td>True</td>\n",
       "      <td>...</td>\n",
       "      <td>NaN</td>\n",
       "      <td>25-44</td>\n",
       "      <td>M</td>\n",
       "      <td>BLACK</td>\n",
       "      <td>9.964416e+05</td>\n",
       "      <td>184160.359375</td>\n",
       "      <td>40.672154</td>\n",
       "      <td>-73.956052</td>\n",
       "      <td>NaN</td>\n",
       "      <td>POINT (-73.95605150499995 40.67215420900004)</td>\n",
       "    </tr>\n",
       "    <tr>\n",
       "      <th>9953247</th>\n",
       "      <td>9953247</td>\n",
       "      <td>2006-01-01</td>\n",
       "      <td>03:30:00</td>\n",
       "      <td>BROOKLYN</td>\n",
       "      <td>NaN</td>\n",
       "      <td>67</td>\n",
       "      <td>0.0</td>\n",
       "      <td>NaN</td>\n",
       "      <td>NaN</td>\n",
       "      <td>False</td>\n",
       "      <td>...</td>\n",
       "      <td>UNKNOWN</td>\n",
       "      <td>18-24</td>\n",
       "      <td>M</td>\n",
       "      <td>BLACK</td>\n",
       "      <td>9.993160e+05</td>\n",
       "      <td>176460.000000</td>\n",
       "      <td>40.651014</td>\n",
       "      <td>-73.945707</td>\n",
       "      <td>NaN</td>\n",
       "      <td>POINT (-73.94570651699996 40.65101399800005)</td>\n",
       "    </tr>\n",
       "    <tr>\n",
       "      <th>...</th>\n",
       "      <td>...</td>\n",
       "      <td>...</td>\n",
       "      <td>...</td>\n",
       "      <td>...</td>\n",
       "      <td>...</td>\n",
       "      <td>...</td>\n",
       "      <td>...</td>\n",
       "      <td>...</td>\n",
       "      <td>...</td>\n",
       "      <td>...</td>\n",
       "      <td>...</td>\n",
       "      <td>...</td>\n",
       "      <td>...</td>\n",
       "      <td>...</td>\n",
       "      <td>...</td>\n",
       "      <td>...</td>\n",
       "      <td>...</td>\n",
       "      <td>...</td>\n",
       "      <td>...</td>\n",
       "      <td>...</td>\n",
       "      <td>...</td>\n",
       "    </tr>\n",
       "    <tr>\n",
       "      <th>261176929</th>\n",
       "      <td>261176929</td>\n",
       "      <td>2022-12-30</td>\n",
       "      <td>17:00:00</td>\n",
       "      <td>MANHATTAN</td>\n",
       "      <td>OUTSIDE</td>\n",
       "      <td>30</td>\n",
       "      <td>0.0</td>\n",
       "      <td>STREET</td>\n",
       "      <td>(null)</td>\n",
       "      <td>N</td>\n",
       "      <td>...</td>\n",
       "      <td>BLACK</td>\n",
       "      <td>25-44</td>\n",
       "      <td>M</td>\n",
       "      <td>BLACK</td>\n",
       "      <td>9.982210e+05</td>\n",
       "      <td>239909.000000</td>\n",
       "      <td>40.825160</td>\n",
       "      <td>-73.949519</td>\n",
       "      <td>POINT (-73.949519 40.82516)</td>\n",
       "      <td>NaN</td>\n",
       "    </tr>\n",
       "    <tr>\n",
       "      <th>261176930</th>\n",
       "      <td>261176930</td>\n",
       "      <td>2022-12-30</td>\n",
       "      <td>21:54:00</td>\n",
       "      <td>BRONX</td>\n",
       "      <td>OUTSIDE</td>\n",
       "      <td>43</td>\n",
       "      <td>0.0</td>\n",
       "      <td>STREET</td>\n",
       "      <td>GROCERY/BODEGA</td>\n",
       "      <td>N</td>\n",
       "      <td>...</td>\n",
       "      <td>(null)</td>\n",
       "      <td>18-24</td>\n",
       "      <td>M</td>\n",
       "      <td>BLACK</td>\n",
       "      <td>1.018018e+06</td>\n",
       "      <td>243141.000000</td>\n",
       "      <td>40.833978</td>\n",
       "      <td>-73.877971</td>\n",
       "      <td>POINT (-73.877971 40.833978)</td>\n",
       "      <td>NaN</td>\n",
       "    </tr>\n",
       "    <tr>\n",
       "      <th>261160236</th>\n",
       "      <td>261160236</td>\n",
       "      <td>2022-12-30</td>\n",
       "      <td>20:55:00</td>\n",
       "      <td>BROOKLYN</td>\n",
       "      <td>INSIDE</td>\n",
       "      <td>70</td>\n",
       "      <td>0.0</td>\n",
       "      <td>DWELLING</td>\n",
       "      <td>MULTI DWELL - APT BUILD</td>\n",
       "      <td>Y</td>\n",
       "      <td>...</td>\n",
       "      <td>(null)</td>\n",
       "      <td>&lt;18</td>\n",
       "      <td>M</td>\n",
       "      <td>BLACK</td>\n",
       "      <td>9.959130e+05</td>\n",
       "      <td>177183.000000</td>\n",
       "      <td>40.652997</td>\n",
       "      <td>-73.957965</td>\n",
       "      <td>POINT (-73.957965 40.652997)</td>\n",
       "      <td>NaN</td>\n",
       "    </tr>\n",
       "    <tr>\n",
       "      <th>261175635</th>\n",
       "      <td>261175635</td>\n",
       "      <td>2022-12-30</td>\n",
       "      <td>16:26:00</td>\n",
       "      <td>BRONX</td>\n",
       "      <td>OUTSIDE</td>\n",
       "      <td>44</td>\n",
       "      <td>0.0</td>\n",
       "      <td>STREET</td>\n",
       "      <td>(null)</td>\n",
       "      <td>N</td>\n",
       "      <td>...</td>\n",
       "      <td>WHITE HISPANIC</td>\n",
       "      <td>45-64</td>\n",
       "      <td>M</td>\n",
       "      <td>BLACK</td>\n",
       "      <td>1.010069e+06</td>\n",
       "      <td>244367.000000</td>\n",
       "      <td>40.837369</td>\n",
       "      <td>-73.906691</td>\n",
       "      <td>POINT (-73.906691 40.837369)</td>\n",
       "      <td>NaN</td>\n",
       "    </tr>\n",
       "    <tr>\n",
       "      <th>261190187</th>\n",
       "      <td>261190187</td>\n",
       "      <td>2022-12-31</td>\n",
       "      <td>23:41:00</td>\n",
       "      <td>QUEENS</td>\n",
       "      <td>OUTSIDE</td>\n",
       "      <td>105</td>\n",
       "      <td>0.0</td>\n",
       "      <td>STREET</td>\n",
       "      <td>(null)</td>\n",
       "      <td>N</td>\n",
       "      <td>...</td>\n",
       "      <td>BLACK</td>\n",
       "      <td>&lt;18</td>\n",
       "      <td>M</td>\n",
       "      <td>BLACK</td>\n",
       "      <td>1.058125e+06</td>\n",
       "      <td>191900.000000</td>\n",
       "      <td>40.693091</td>\n",
       "      <td>-73.733598</td>\n",
       "      <td>POINT (-73.733598 40.693091)</td>\n",
       "      <td>NaN</td>\n",
       "    </tr>\n",
       "  </tbody>\n",
       "</table>\n",
       "<p>21420 rows × 22 columns</p>\n",
       "</div>"
      ],
      "text/plain": [
       "              INCIDENT_KEY OCCUR_DATE OCCUR_TIME       BORO LOC_OF_OCCUR_DESC  \\\n",
       "INCIDENT_KEY                                                                    \n",
       "9953245            9953245 2006-01-01   02:00:00      BRONX               NaN   \n",
       "9953252            9953252 2006-01-01   02:22:00  MANHATTAN               NaN   \n",
       "9953250            9953250 2006-01-01   02:34:00     QUEENS               NaN   \n",
       "139716503        139716503 2006-01-01   12:30:00   BROOKLYN               NaN   \n",
       "9953247            9953247 2006-01-01   03:30:00   BROOKLYN               NaN   \n",
       "...                    ...        ...        ...        ...               ...   \n",
       "261176929        261176929 2022-12-30   17:00:00  MANHATTAN           OUTSIDE   \n",
       "261176930        261176930 2022-12-30   21:54:00      BRONX           OUTSIDE   \n",
       "261160236        261160236 2022-12-30   20:55:00   BROOKLYN            INSIDE   \n",
       "261175635        261175635 2022-12-30   16:26:00      BRONX           OUTSIDE   \n",
       "261190187        261190187 2022-12-31   23:41:00     QUEENS           OUTSIDE   \n",
       "\n",
       "              PRECINCT  JURISDICTION_CODE LOC_CLASSFCTN_DESC  \\\n",
       "INCIDENT_KEY                                                   \n",
       "9953245             48                0.0                NaN   \n",
       "9953252             28                0.0                NaN   \n",
       "9953250            114                0.0                NaN   \n",
       "139716503           77                0.0                NaN   \n",
       "9953247             67                0.0                NaN   \n",
       "...                ...                ...                ...   \n",
       "261176929           30                0.0             STREET   \n",
       "261176930           43                0.0             STREET   \n",
       "261160236           70                0.0           DWELLING   \n",
       "261175635           44                0.0             STREET   \n",
       "261190187          105                0.0             STREET   \n",
       "\n",
       "                        LOCATION_DESC STATISTICAL_MURDER_FLAG  ...  \\\n",
       "INCIDENT_KEY                                                   ...   \n",
       "9953245                          NONE                   False  ...   \n",
       "9953252                          NONE                    True  ...   \n",
       "9953250                BAR/NIGHT CLUB                    True  ...   \n",
       "139716503                   PVT HOUSE                    True  ...   \n",
       "9953247                           NaN                   False  ...   \n",
       "...                               ...                     ...  ...   \n",
       "261176929                      (null)                       N  ...   \n",
       "261176930              GROCERY/BODEGA                       N  ...   \n",
       "261160236     MULTI DWELL - APT BUILD                       Y  ...   \n",
       "261175635                      (null)                       N  ...   \n",
       "261190187                      (null)                       N  ...   \n",
       "\n",
       "                   PERP_RACE VIC_AGE_GROUP VIC_SEX VIC_RACE    X_COORD_CD  \\\n",
       "INCIDENT_KEY                                                                \n",
       "9953245                BLACK           <18       M    BLACK  1.013405e+06   \n",
       "9953252                BLACK         25-44       M    BLACK  9.988158e+05   \n",
       "9953250                BLACK         25-44       M    BLACK  1.002577e+06   \n",
       "139716503                NaN         25-44       M    BLACK  9.964416e+05   \n",
       "9953247              UNKNOWN         18-24       M    BLACK  9.993160e+05   \n",
       "...                      ...           ...     ...      ...           ...   \n",
       "261176929              BLACK         25-44       M    BLACK  9.982210e+05   \n",
       "261176930             (null)         18-24       M    BLACK  1.018018e+06   \n",
       "261160236             (null)           <18       M    BLACK  9.959130e+05   \n",
       "261175635     WHITE HISPANIC         45-64       M    BLACK  1.010069e+06   \n",
       "261190187              BLACK           <18       M    BLACK  1.058125e+06   \n",
       "\n",
       "                 Y_COORD_CD   Latitude  Longitude  \\\n",
       "INCIDENT_KEY                                        \n",
       "9953245       251800.750000  40.857770 -73.894607   \n",
       "9953252       233545.437500  40.807700 -73.947386   \n",
       "9953250       221583.453125  40.774861 -73.933833   \n",
       "139716503     184160.359375  40.672154 -73.956052   \n",
       "9953247       176460.000000  40.651014 -73.945707   \n",
       "...                     ...        ...        ...   \n",
       "261176929     239909.000000  40.825160 -73.949519   \n",
       "261176930     243141.000000  40.833978 -73.877971   \n",
       "261160236     177183.000000  40.652997 -73.957965   \n",
       "261175635     244367.000000  40.837369 -73.906691   \n",
       "261190187     191900.000000  40.693091 -73.733598   \n",
       "\n",
       "                  New Georeferenced Column  \\\n",
       "INCIDENT_KEY                                 \n",
       "9953245                                NaN   \n",
       "9953252                                NaN   \n",
       "9953250                                NaN   \n",
       "139716503                              NaN   \n",
       "9953247                                NaN   \n",
       "...                                    ...   \n",
       "261176929      POINT (-73.949519 40.82516)   \n",
       "261176930     POINT (-73.877971 40.833978)   \n",
       "261160236     POINT (-73.957965 40.652997)   \n",
       "261175635     POINT (-73.906691 40.837369)   \n",
       "261190187     POINT (-73.733598 40.693091)   \n",
       "\n",
       "                                                   Lon_Lat  \n",
       "INCIDENT_KEY                                                \n",
       "9953245       POINT (-73.89460745999997 40.85776982200008)  \n",
       "9953252       POINT (-73.94738575999997 40.80770036400003)  \n",
       "9953250       POINT (-73.93383258499995 40.77486094100004)  \n",
       "139716503     POINT (-73.95605150499995 40.67215420900004)  \n",
       "9953247       POINT (-73.94570651699996 40.65101399800005)  \n",
       "...                                                    ...  \n",
       "261176929                                              NaN  \n",
       "261176930                                              NaN  \n",
       "261160236                                              NaN  \n",
       "261175635                                              NaN  \n",
       "261190187                                              NaN  \n",
       "\n",
       "[21420 rows x 22 columns]"
      ]
     },
     "execution_count": 12,
     "metadata": {},
     "output_type": "execute_result"
    }
   ],
   "source": [
    "df"
   ]
  },
  {
   "cell_type": "markdown",
   "id": "d932b87c",
   "metadata": {},
   "source": [
    "### 4. See approaches of analysis\n",
    "#### The prescence of Datetime objects would let us analyze any time based criteria: frequency, seasonality, time of day. The prescence of geolocations would let us analyze any location based criteria. Since we are still; recovering from a global pandemic, let us explore its effects on crimes, starting from 2020-2022, compared to 2017-2019. \n"
   ]
  },
  {
   "cell_type": "markdown",
   "id": "9cd61751",
   "metadata": {},
   "source": [
    "### 5. Data Preparation: separate data by years\n"
   ]
  },
  {
   "cell_type": "code",
   "execution_count": 13,
   "id": "2ff100f9",
   "metadata": {},
   "outputs": [],
   "source": [
    "#function creates new dataframe column based on years \n",
    "def create_year_dataframe(df,year):\n",
    "    start_date = pd.Timestamp(year, 1, 1)\n",
    "    end_date = pd.Timestamp(year+1, 1, 1)\n",
    "    date_range = pd.date_range(start=start_date, end=end_date, freq='D')\n",
    "    df['year'] = df['OCCUR_DATE'].dt.year\n",
    "\n",
    "    return df"
   ]
  },
  {
   "cell_type": "code",
   "execution_count": 14,
   "id": "485da1c2",
   "metadata": {},
   "outputs": [],
   "source": [
    "df=create_year_dataframe(df,2021)"
   ]
  },
  {
   "cell_type": "markdown",
   "id": "4f87d2b9",
   "metadata": {},
   "source": [
    " "
   ]
  },
  {
   "cell_type": "code",
   "execution_count": 15,
   "id": "8dbd9f06",
   "metadata": {},
   "outputs": [],
   "source": [
    "#Per year\n",
    "df_2022=df[df['year']==2022]\n",
    "df_2021=df[df['year']==2021]\n",
    "df_2020=df[df['year']==2020]\n",
    "\n",
    "#pre and post covid\n",
    "df_overall=df[df['year']>=2017]\n",
    "df_pstcvd=df[df['year']>=2020]\n",
    "df_precvd=df[(df['year']< 2020) & (df['year']>= 2017)] "
   ]
  },
  {
   "cell_type": "markdown",
   "id": "d29c1465",
   "metadata": {},
   "source": [
    "# Analysis and visualizations"
   ]
  },
  {
   "cell_type": "markdown",
   "id": "7b4581c2",
   "metadata": {},
   "source": [
    "### 1. Overall chart comparisons"
   ]
  },
  {
   "cell_type": "code",
   "execution_count": 16,
   "id": "c22f4988",
   "metadata": {},
   "outputs": [],
   "source": [
    "counts = df_overall.groupby('OCCUR_DATE').size()\n",
    "counts = counts.resample('M').sum()\n",
    "counts= counts.sort_index()\n"
   ]
  },
  {
   "cell_type": "code",
   "execution_count": 17,
   "id": "4ae2ed5b",
   "metadata": {},
   "outputs": [
    {
     "data": {
      "image/png": "[encoded data removed]",
      "text/plain": [
       "<Figure size 720x432 with 1 Axes>"
      ]
     },
     "metadata": {
      "needs_background": "light"
     },
     "output_type": "display_data"
    }
   ],
   "source": [
    "# Create a line plot of the counts over time\n",
    "ax = counts.plot(figsize=(10, 6), linewidth=2)\n",
    "ax.set_xlabel('Date')\n",
    "ax.set_ylabel('Count')\n",
    "ax.set_title('Occurrences by Month and Year')\n",
    "#ax.xaxis.set_major_formatter(plt.matplotlib.dates.DateFormatter('%Y-%m'))\n",
    "\n",
    "plt.show()\n"
   ]
  },
  {
   "cell_type": "markdown",
   "id": "e299bc35",
   "metadata": {},
   "source": [
    "#### This is a basic graph, but it shows just how profound the effect of the COVID lockdown was overall to the shootings count. To put this into perspective, the minimal seasonal incident rates of post lockdown is almost equal to the maximal rates pre-lockdown. During lockdown the rates skyrocketed three times the previous year's peak."
   ]
  },
  {
   "cell_type": "markdown",
   "id": "eda13048",
   "metadata": {},
   "source": [
    "### 2. Overall Incidents Histogram"
   ]
  },
  {
   "cell_type": "code",
   "execution_count": 18,
   "id": "08892b29",
   "metadata": {},
   "outputs": [],
   "source": [
    "counts = df_overall.groupby('OCCUR_DATE').size()\n",
    "counts = counts.resample('Y').sum()\n",
    "counts= counts.sort_index()\n",
    "counts= counts.reset_index()"
   ]
  },
  {
   "cell_type": "code",
   "execution_count": 19,
   "id": "6e0b6bed",
   "metadata": {},
   "outputs": [],
   "source": [
    "counts['Year']=counts['OCCUR_DATE'].dt.year"
   ]
  },
  {
   "cell_type": "code",
   "execution_count": 20,
   "id": "4d13d0b5",
   "metadata": {},
   "outputs": [
    {
     "data": {
      "image/png": "[encoded data removed]",
      "text/plain": [
       "<Figure size 720x432 with 1 Axes>"
      ]
     },
     "metadata": {},
     "output_type": "display_data"
    }
   ],
   "source": [
    "\n",
    "# Set the plot style\n",
    "sns.set_style('darkgrid')\n",
    "\n",
    "# Create a histogram of the counts using Seaborn\n",
    "fig, ax = plt.subplots(figsize=(10, 6))\n",
    "#sns.histplot(data=counts, ,y=0, ax=ax, binwidth=100, color='blue', edgecolor='white', linewidth=1.5, alpha=0.7, bar_kws={'ec':'black'})\n",
    "sns.barplot(data=counts,x='Year', y=0, color='blue', edgecolor='black', alpha=0.7)\n",
    "\n",
    "# Set the x-axis label to month, year\n",
    "ax.set_xlabel('Date')\n",
    "ax.set_ylabel('Count')\n",
    "ax.set_title('Occurrences by Year')\n",
    "#ax.xaxis.set_major_formatter(plt.matplotlib.dates.DateFormatter('%Y'))\n",
    "\n",
    "plt.show()"
   ]
  },
  {
   "cell_type": "markdown",
   "id": "7507fe49",
   "metadata": {},
   "source": []
  },
  {
   "cell_type": "markdown",
   "id": "74f0e553",
   "metadata": {},
   "source": [
    "#### This is a histogram of the overall shootings annually, we can see that the lockdown ease did NOT immediately reduce shooting incidents. Instead, we are still just beginning of recovery from the trauma. Lockdowns greatly increased the likelihood of shootings, not decrease them."
   ]
  },
  {
   "cell_type": "code",
   "execution_count": 21,
   "id": "610b493b",
   "metadata": {},
   "outputs": [],
   "source": [
    "\n",
    "counts = df_overall.groupby('OCCUR_DATE').size()\n",
    "counts = counts.resample('M').sum()\n",
    "counts= counts.sort_index()\n"
   ]
  },
  {
   "cell_type": "code",
   "execution_count": null,
   "id": "3145b5ea",
   "metadata": {},
   "outputs": [],
   "source": []
  },
  {
   "cell_type": "markdown",
   "id": "d174864c",
   "metadata": {},
   "source": [
    "### 3. Models before and after lockdown "
   ]
  },
  {
   "cell_type": "code",
   "execution_count": 22,
   "id": "e2a5471c",
   "metadata": {},
   "outputs": [],
   "source": [
    "from statsmodels.tsa.arima.model import ARIMA"
   ]
  },
  {
   "cell_type": "code",
   "execution_count": 31,
   "id": "9e300d71",
   "metadata": {},
   "outputs": [],
   "source": [
    "df_precvd_month=df_precvd.groupby('OCCUR_DATE').size()\n",
    "df_precvd_month= df_precvd_month.resample('M').sum()"
   ]
  },
  {
   "cell_type": "code",
   "execution_count": 35,
   "id": "a3a6579e",
   "metadata": {
    "scrolled": true
   },
   "outputs": [
    {
     "name": "stderr",
     "output_type": "stream",
     "text": [
      "/home/jeffwa/anaconda3/envs/DL_new/lib/python3.10/site-packages/statsmodels/tsa/statespace/sarimax.py:966: UserWarning:\n",
      "\n",
      "Non-stationary starting autoregressive parameters found. Using zeros as starting parameters.\n",
      "\n",
      "/home/jeffwa/anaconda3/envs/DL_new/lib/python3.10/site-packages/statsmodels/base/model.py:604: ConvergenceWarning:\n",
      "\n",
      "Maximum Likelihood optimization failed to converge. Check mle_retvals\n",
      "\n"
     ]
    },
    {
     "data": {
      "image/png": "[encoded data removed]",
      "text/plain": [
       "<Figure size 720x432 with 1 Axes>"
      ]
     },
     "metadata": {},
     "output_type": "display_data"
    }
   ],
   "source": [
    "model = ARIMA(df_precvd_month, order=(24, 1,3))\n",
    "model_fit = model.fit()\n",
    "# Forecast future values of the time series\n",
    "forecast = model_fit.forecast(steps=36)\n",
    "\n",
    "# Plot the forecasted values\n",
    "fig, ax = plt.subplots(figsize=(10, 6))\n",
    "plt.plot(forecast)\n",
    "ax.set_ylim(top=200)\n",
    "ax.set_xlabel('Date')\n",
    "ax.set_ylabel('Predicted Count')\n",
    "ax.set_title('Pre-COVID Predictions of Shooting Incidents')\n",
    "plt.show()\n"
   ]
  },
  {
   "cell_type": "markdown",
   "id": "51279462",
   "metadata": {},
   "source": [
    "#### The model would predict normal behavior had it not been for lockdowns."
   ]
  },
  {
   "cell_type": "code",
   "execution_count": 41,
   "id": "c440e9c3",
   "metadata": {},
   "outputs": [
    {
     "name": "stderr",
     "output_type": "stream",
     "text": [
      "/home/jeffwa/anaconda3/envs/DL_new/lib/python3.10/site-packages/statsmodels/tsa/statespace/sarimax.py:966: UserWarning:\n",
      "\n",
      "Non-stationary starting autoregressive parameters found. Using zeros as starting parameters.\n",
      "\n",
      "/home/jeffwa/anaconda3/envs/DL_new/lib/python3.10/site-packages/statsmodels/base/model.py:604: ConvergenceWarning:\n",
      "\n",
      "Maximum Likelihood optimization failed to converge. Check mle_retvals\n",
      "\n"
     ]
    },
    {
     "data": {
      "image/png": "[encoded data removed]",
      "text/plain": [
       "<Figure size 720x432 with 1 Axes>"
      ]
     },
     "metadata": {},
     "output_type": "display_data"
    }
   ],
   "source": [
    "df_pstcvd_month=df_pstcvd.groupby('OCCUR_DATE').size()\n",
    "df_pstcvd_month= df_pstcvd_month.resample('M').sum()\n",
    "model = ARIMA(df_pstcvd_month, order=(24, 1,1))\n",
    "model_fit = model.fit()\n",
    "# Forecast future values of the time series\n",
    "forecast = model_fit.forecast(steps=34)\n",
    "\n",
    "# Plot the forecasted values\n",
    "fig, ax = plt.subplots(figsize=(10, 6))\n",
    "plt.plot(forecast)\n",
    "ax.set_xlabel('Date')\n",
    "ax.set_ylabel('Predicted Count')\n",
    "ax.set_title('Post-COVID Predictions of Shooting Incidents')\n",
    "plt.show()"
   ]
  },
  {
   "cell_type": "markdown",
   "id": "16f92554",
   "metadata": {},
   "source": [
    "#### The ARIMA model forecasts that incidents for the next three years will maintain its highs after lockdown."
   ]
  },
  {
   "cell_type": "markdown",
   "id": "11bf69ca",
   "metadata": {},
   "source": [
    "### 5. Bias\n",
    "#### The numbers reported may have biases because the likelihood of reporting a crime near in home is much higher than at work or outside. Although the data strongly suggests lockdowns were a major playing factor, we must acknowledge that not all  shooting incidents that are reported are representative of general shooting incidents in NYC. For example, incidents that result in serious injury or death may be more likely to be reported or investigated, while less severe incidents may go unreported or unnoticed."
   ]
  },
  {
   "cell_type": "markdown",
   "id": "8e68dc0c",
   "metadata": {},
   "source": [
    "### 6. Conclusions "
   ]
  },
  {
   "cell_type": "markdown",
   "id": "baa9cffb",
   "metadata": {},
   "source": [
    "<p style='text-align: left;'>\n",
    "    \n",
    "<b>   As the COVID-19 nationwide lockdowns came into place, the daily routines of the majority of people in the United States was abruptly and almost permanently affected. In compliance with the Centers for Disease Control and Prevention's (CDC) guidelines on social distancing, businesses, schools, and whole industries have had to replace physical activities with virtual/remote options. This initiative has proven successful in decreasing the spread of COVID-19 and was imperative for effectively addressing the pandemic. However, as a result of the stresses of isolation, inactivity, financials, and claustrophobia, gun violence have skyrocketed. The NYPD recent official data supports this. The visualizations illustrate that there is a paradoxical trend of increased gun related violence in the midst and recovery of the pandemic.<b>\n",
    "    \n",
    "\n",
    "</p>"
   ]
  },
  {
   "cell_type": "markdown",
   "id": "6456588d",
   "metadata": {},
   "source": [
    "<p style='text-align: left;'>\n",
    "<b>    \n",
    "A possible factor to the increase in firearm-related incidents may be associated with the length of unemployment. This could be attributed to the financial strain that individuals, particularly those of lower socioeconomic status. As a result of desperation, many resort to theft as a means of income and food.\n",
    "    "
   ]
  },
  {
   "cell_type": "markdown",
   "id": "2667a1be",
   "metadata": {},
   "source": [
    "<p style='text-align: left;'>\n",
    "    \n",
    "<b>   \n",
    "Alternatively, the surge in gun violence during this period could also be attributed to the spike in alcohol sales and consumption. Studies have demonstrated that alcohol consumption tends to lead to higher propensities for violent behavior and risk-taking, which can escalate into altercations and even violent crimes.\n",
    "        \n",
    "    \n",
    "</p>"
   ]
  },
  {
   "cell_type": "markdown",
   "id": "b5d93c1e",
   "metadata": {},
   "source": [
    "<p style='text-align: left;'>\n",
    "    \n",
    "<b>   \n",
    "Other factors may also include the general mental stresses of COVID as suicides and anxiety have greatly increased, which further leads into increased rates of gun violence.\n",
    "    \n",
    "</p>"
   ]
  },
  {
   "cell_type": "markdown",
   "id": "9045e230",
   "metadata": {},
   "source": [
    "<p style='text-align: left;'>\n",
    "    \n",
    "<b> \n",
    "    \n",
    "Unfortunately, it is unlikely that this growth in gun violence will return to normal levels any time soon. As the forecast suggests, the decay rate of these incidents have been slow. We are hoping for pre-lockdown levels in about a decade, hopefully less. But I nonetheless urge the for more awareness and action regarding these increased dangers to public health and safety.\n",
    " \n",
    "    \n",
    "</p>"
   ]
  },
  {
   "cell_type": "code",
   "execution_count": null,
   "id": "1be530e2",
   "metadata": {},
   "outputs": [],
   "source": []
  }
 ],
 "metadata": {
  "kernelspec": {
   "display_name": "Python 3 (ipykernel)",
   "language": "python",
   "name": "python3"
  },
  "language_info": {
   "codemirror_mode": {
    "name": "ipython",
    "version": 3
   },
   "file_extension": ".py",
   "mimetype": "text/x-python",
   "name": "python",
   "nbconvert_exporter": "python",
   "pygments_lexer": "ipython3",
   "version": "3.10.4"
  }
 },
 "nbformat": 4,
 "nbformat_minor": 5
}
